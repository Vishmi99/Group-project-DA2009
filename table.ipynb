{
 "cells": [
  {
   "cell_type": "code",
   "execution_count": 14,
   "id": "edb0972b",
   "metadata": {},
   "outputs": [],
   "source": [
    "import pandas as pd\n",
    "\n",
    "api_url =\"https://www.customs.gov.lk/wp-content/uploads/2025/03/ipr_table_data_2025.html\"\n",
    "\n",
    "tables =pd.read_html(api_url)\n",
    "\n",
    "df = tables[0]\n",
    "\n",
    "\n",
    "df.to_excel(\"Export/IPR.xlsx\", index = False)"
   ]
  },
  {
   "cell_type": "code",
   "execution_count": 11,
   "id": "646accb9",
   "metadata": {},
   "outputs": [],
   "source": [
    "import pandas as pd\n",
    "\n",
    "api_url = \"https://www.customs.gov.lk/business/revenue-collected-by-sri-lanka-customs/\"\n",
    "\n",
    "tables = pd.read_html(api_url)\n",
    "\n",
    "df = tables[0]\n",
    "\n",
    "df.to_excel(\"Export/ORIGINAL ESTIMATE.xlsx\", index= False)\n"
   ]
  },
  {
   "cell_type": "markdown",
   "id": "86a63dc9",
   "metadata": {},
   "source": []
  },
  {
   "cell_type": "code",
   "execution_count": 10,
   "id": "f7725cff",
   "metadata": {},
   "outputs": [],
   "source": [
    "import pandas as pd\n",
    "\n",
    "api_url = \"https://www.customs.gov.lk/business/revenue-collected-by-sri-lanka-customs/\"\n",
    "\n",
    "tables = pd.read_html(api_url)\n",
    "\n",
    "df = tables[1]\n",
    "\n",
    "df.to_excel(\"Export/Estimated vs Actual Revenue.xlsx\", index= False)\n"
   ]
  },
  {
   "cell_type": "code",
   "execution_count": 13,
   "id": "74b964cd",
   "metadata": {},
   "outputs": [],
   "source": [
    "import pandas as pd\n",
    "\n",
    "api_url = \"https://www.customs.gov.lk/business/revenue-collected-by-sri-lanka-customs/\"\n",
    "\n",
    "tables = pd.read_html(api_url)\n",
    "\n",
    "df = tables[2]\n",
    "\n",
    "df.to_excel(\"Export/Accumulated Revenue.xlsx\", index= False)"
   ]
  },
  {
   "cell_type": "code",
   "execution_count": null,
   "id": "b37a0baf",
   "metadata": {},
   "outputs": [],
   "source": []
  }
 ],
 "metadata": {
  "kernelspec": {
   "display_name": "base",
   "language": "python",
   "name": "python3"
  },
  "language_info": {
   "codemirror_mode": {
    "name": "ipython",
    "version": 3
   },
   "file_extension": ".py",
   "mimetype": "text/x-python",
   "name": "python",
   "nbconvert_exporter": "python",
   "pygments_lexer": "ipython3",
   "version": "3.12.7"
  }
 },
 "nbformat": 4,
 "nbformat_minor": 5
}
